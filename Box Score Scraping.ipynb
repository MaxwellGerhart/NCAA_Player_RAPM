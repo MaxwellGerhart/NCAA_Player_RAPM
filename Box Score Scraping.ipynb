{
 "cells": [
  {
   "cell_type": "code",
   "execution_count": 1,
   "id": "bdbded4e",
   "metadata": {
    "scrolled": true
   },
   "outputs": [],
   "source": [
    "import json\n",
    "import os\n",
    "import numpy as np\n",
    "import pandas as pd"
   ]
  },
  {
   "cell_type": "code",
   "execution_count": 4,
   "id": "74369410",
   "metadata": {},
   "outputs": [],
   "source": [
    "match_id = '6310274'"
   ]
  },
  {
   "cell_type": "code",
   "execution_count": 5,
   "id": "5d61399f",
   "metadata": {},
   "outputs": [],
   "source": [
    "result = os.popen(\n",
    "    f'curl https://data.ncaa.com/casablanca/game/{match_id}/boxscore.json'\n",
    ").read()\n",
    "\n",
    "data = json.loads(result)"
   ]
  },
  {
   "cell_type": "code",
   "execution_count": 7,
   "id": "6c20a456",
   "metadata": {},
   "outputs": [],
   "source": [
    "# Accessing teams\n",
    "teams = data[\"teams\"]\n",
    "\n",
    "# For Team 1 (NC State):\n",
    "team1_player_stats = teams[0][\"playerStats\"]\n",
    "\n",
    "# For Team 2 (UNC):\n",
    "team2_player_stats = teams[1][\"playerStats\"]\n"
   ]
  },
  {
   "cell_type": "code",
   "execution_count": 8,
   "id": "ca9e20d6",
   "metadata": {
    "scrolled": true
   },
   "outputs": [
    {
     "name": "stdout",
     "output_type": "stream",
     "text": [
      "Team 1 (NC State) DataFrame:\n",
      "   firstName     lastName minutesPlayed\n",
      "0       Liam      Bennett            78\n",
      "1       Will        Buete            54\n",
      "2      Logan          Erb            90\n",
      "3       Taig        Healy            74\n",
      "4      Isaac      Heffess            90\n",
      "5   Santiago  Hoyos lopez            33\n",
      "6     Nikola     Markovic            90\n",
      "7     Junior         Nare            33\n",
      "8    Vusumzi      Plamana            90\n",
      "9   Henrique       Santos            58\n",
      "10      Yves     Tcheuyap            78\n",
      "11     Hakim     Karamoko            58\n",
      "12      Drew     Lovelace            29\n",
      "13      Will      Noecker            13\n",
      "14     Aidan        Payne            13\n",
      "15   Donavan      Phillip            58\n",
      "16     Calem        Tommy            57\n"
     ]
    }
   ],
   "source": [
    "def create_team_dataframe(team):\n",
    "    players = team['playerStats']\n",
    "    # Create a DataFrame using firstName, lastName, and minutesPlayed\n",
    "    df = pd.DataFrame(players, columns=['firstName', 'lastName', 'minutesPlayed'])\n",
    "    return df\n",
    "\n",
    "# Create DataFrames for both teams\n",
    "team1_df = create_team_dataframe(data['teams'][0])\n",
    "team2_df = create_team_dataframe(data['teams'][1])\n",
    "\n",
    "print(\"Team 1 (NC State) DataFrame:\")\n",
    "print(team1_df)"
   ]
  }
 ],
 "metadata": {
  "kernelspec": {
   "display_name": "Python 3 (ipykernel)",
   "language": "python",
   "name": "python3"
  },
  "language_info": {
   "codemirror_mode": {
    "name": "ipython",
    "version": 3
   },
   "file_extension": ".py",
   "mimetype": "text/x-python",
   "name": "python",
   "nbconvert_exporter": "python",
   "pygments_lexer": "ipython3",
   "version": "3.9.7"
  }
 },
 "nbformat": 4,
 "nbformat_minor": 5
}
